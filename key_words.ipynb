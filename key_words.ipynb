{
  "nbformat": 4,
  "nbformat_minor": 0,
  "metadata": {
    "colab": {
      "name": "key_words.ipynb",
      "provenance": [],
      "mount_file_id": "1VFgEcx8mtdOyB4Gkw9IKYPPtUhhvyQXI",
      "authorship_tag": "ABX9TyMJ6EybMMzqGMljYqxAddak",
      "include_colab_link": true
    },
    "kernelspec": {
      "name": "python3",
      "display_name": "Python 3"
    },
    "language_info": {
      "name": "python"
    }
  },
  "cells": [
    {
      "cell_type": "markdown",
      "metadata": {
        "id": "view-in-github",
        "colab_type": "text"
      },
      "source": [
        "<a href=\"https://colab.research.google.com/github/ISCB-Academy/keywords/blob/main/key_words.ipynb\" target=\"_parent\"><img src=\"https://colab.research.google.com/assets/colab-badge.svg\" alt=\"Open In Colab\"/></a>"
      ]
    },
    {
      "cell_type": "code",
      "execution_count": 1,
      "metadata": {
        "id": "NJn96LhnkJe4",
        "colab": {
          "base_uri": "https://localhost:8080/"
        },
        "outputId": "a762bbd8-4621-464c-8664-4e2a2577e21a"
      },
      "outputs": [
        {
          "output_type": "stream",
          "name": "stdout",
          "text": [
            "Collecting git+https://github.com/LIAAD/yake\n",
            "  Cloning https://github.com/LIAAD/yake to /tmp/pip-req-build-vbp0sr1m\n",
            "  Running command git clone -q https://github.com/LIAAD/yake /tmp/pip-req-build-vbp0sr1m\n",
            "Requirement already satisfied: tabulate in /usr/local/lib/python3.7/dist-packages (from yake==0.4.8) (0.8.9)\n",
            "Requirement already satisfied: click>=6.0 in /usr/local/lib/python3.7/dist-packages (from yake==0.4.8) (7.1.2)\n",
            "Requirement already satisfied: numpy in /usr/local/lib/python3.7/dist-packages (from yake==0.4.8) (1.19.5)\n",
            "Collecting segtok\n",
            "  Downloading segtok-1.5.11-py3-none-any.whl (24 kB)\n",
            "Requirement already satisfied: networkx in /usr/local/lib/python3.7/dist-packages (from yake==0.4.8) (2.6.3)\n",
            "Collecting jellyfish\n",
            "  Downloading jellyfish-0.9.0.tar.gz (132 kB)\n",
            "\u001b[K     |████████████████████████████████| 132 kB 35.4 MB/s \n",
            "\u001b[?25hRequirement already satisfied: regex in /usr/local/lib/python3.7/dist-packages (from segtok->yake==0.4.8) (2019.12.20)\n",
            "Building wheels for collected packages: yake, jellyfish\n",
            "  Building wheel for yake (setup.py) ... \u001b[?25l\u001b[?25hdone\n",
            "  Created wheel for yake: filename=yake-0.4.8-py2.py3-none-any.whl size=60189 sha256=7e194862292e9ee62a68e53f1dc58e76513899e3570abbf3569e97f7f163996d\n",
            "  Stored in directory: /tmp/pip-ephem-wheel-cache-91tpvaao/wheels/52/79/f4/dae9309f60266aa3767a4381405002b6f2955fbcf038d804da\n",
            "  Building wheel for jellyfish (setup.py) ... \u001b[?25l\u001b[?25hdone\n",
            "  Created wheel for jellyfish: filename=jellyfish-0.9.0-cp37-cp37m-linux_x86_64.whl size=73970 sha256=f2b7ab80c78112a01d6ddee135375ef6f4afd557134db9014f2c83d77e7e485c\n",
            "  Stored in directory: /root/.cache/pip/wheels/fe/99/4e/646ce766df0d070b0ef04db27aa11543e2767fda3075aec31b\n",
            "Successfully built yake jellyfish\n",
            "Installing collected packages: segtok, jellyfish, yake\n",
            "Successfully installed jellyfish-0.9.0 segtok-1.5.11 yake-0.4.8\n"
          ]
        }
      ],
      "source": [
        "!pip install git+https://github.com/LIAAD/yake"
      ]
    },
    {
      "cell_type": "code",
      "source": [
        "import yake\n",
        "import pandas as pd"
      ],
      "metadata": {
        "id": "YX8uxl6HkrT-"
      },
      "execution_count": 2,
      "outputs": []
    },
    {
      "cell_type": "code",
      "source": [
        "from google.colab import drive\n",
        "drive.mount('/content/drive')"
      ],
      "metadata": {
        "colab": {
          "base_uri": "https://localhost:8080/"
        },
        "id": "EYGoWC6tlK6w",
        "outputId": "450f4b53-a52d-4dd5-f3aa-c0c85668eb29"
      },
      "execution_count": 4,
      "outputs": [
        {
          "output_type": "stream",
          "name": "stdout",
          "text": [
            "Mounted at /content/drive\n"
          ]
        }
      ]
    },
    {
      "cell_type": "code",
      "source": [
        "text = pd.read_csv(\"/content/drive/MyDrive/Education_ISCB/Bioschemas/ISCB_events.csv\")\n",
        "text['abstract'] = text['abstract'].astype('string')"
      ],
      "metadata": {
        "id": "virfKdlGkuhK"
      },
      "execution_count": 11,
      "outputs": []
    },
    {
      "cell_type": "code",
      "source": [
        "language = \"en\"\n",
        "max_ngram_size = 2\n",
        "deduplication_threshold = 0.3\n",
        "deduplication_algo = 'seqm'\n",
        "windowsSize=1\n",
        "numOfKeywords = 5\n",
        "\n",
        "custom_kw_extractor = yake.KeywordExtractor(lan=language, \n",
        "                                            n=max_ngram_size, \n",
        "                                            dedupFunc=deduplication_algo, dedupLim=deduplication_threshold,\n",
        "                                            top=numOfKeywords, \n",
        "                                            features=None)\n",
        "#keywords = custom_kw_extractor.extract_keywords(abstract)\n",
        "\n",
        "extract_keywords = lambda x: ', '.join(k[0] for k in custom_kw_extractor.extract_keywords(x))\n",
        "\n",
        "text['TopKeyword'] = text['abstract'].apply(extract_keywords)\n",
        "\n",
        "text.to_csv('/content/drive/MyDrive/Education_ISCB/Bioschemas/keywords.csv') \n"
      ],
      "metadata": {
        "id": "NWafRpbEkzRX"
      },
      "execution_count": 12,
      "outputs": []
    },
    {
      "cell_type": "code",
      "source": [
        "text.head()"
      ],
      "metadata": {
        "colab": {
          "base_uri": "https://localhost:8080/",
          "height": 617
        },
        "id": "v6xB4utAk48H",
        "outputId": "1f17355a-b169-4400-c2ef-e9f0a48df0ec"
      },
      "execution_count": 13,
      "outputs": [
        {
          "output_type": "execute_result",
          "data": {
            "text/html": [
              "\n",
              "  <div id=\"df-2cda9324-83f0-4336-9a78-3369de551494\">\n",
              "    <div class=\"colab-df-container\">\n",
              "      <div>\n",
              "<style scoped>\n",
              "    .dataframe tbody tr th:only-of-type {\n",
              "        vertical-align: middle;\n",
              "    }\n",
              "\n",
              "    .dataframe tbody tr th {\n",
              "        vertical-align: top;\n",
              "    }\n",
              "\n",
              "    .dataframe thead th {\n",
              "        text-align: right;\n",
              "    }\n",
              "</style>\n",
              "<table border=\"1\" class=\"dataframe\">\n",
              "  <thead>\n",
              "    <tr style=\"text-align: right;\">\n",
              "      <th></th>\n",
              "      <th>id</th>\n",
              "      <th>title</th>\n",
              "      <th>presenter</th>\n",
              "      <th>affiliation</th>\n",
              "      <th>date</th>\n",
              "      <th>time</th>\n",
              "      <th>timezone</th>\n",
              "      <th>type</th>\n",
              "      <th>abstract</th>\n",
              "      <th>abstract_cleaned</th>\n",
              "      <th>host</th>\n",
              "      <th>partner</th>\n",
              "      <th>registration_link</th>\n",
              "      <th>recording_link</th>\n",
              "      <th>keywords</th>\n",
              "      <th>created_on</th>\n",
              "      <th>last_updated</th>\n",
              "      <th>TopKeyword</th>\n",
              "    </tr>\n",
              "  </thead>\n",
              "  <tbody>\n",
              "    <tr>\n",
              "      <th>0</th>\n",
              "      <td>8</td>\n",
              "      <td>Revealing Principles of Subcellular RNA Locali...</td>\n",
              "      <td>Furqan Fazal</td>\n",
              "      <td>Stanford University</td>\n",
              "      <td>2020-03-24</td>\n",
              "      <td>11:00:00</td>\n",
              "      <td>EST</td>\n",
              "      <td>webinar</td>\n",
              "      <td>The human body is composed of trillion of cell...</td>\n",
              "      <td>The human body is composed of trillion of cell...</td>\n",
              "      <td>iRNA</td>\n",
              "      <td>RNASociety</td>\n",
              "      <td>NaN</td>\n",
              "      <td>https://youtu.be/Kb3gg5fcZmw</td>\n",
              "      <td>NaN</td>\n",
              "      <td>2022-02-01 11:22:14</td>\n",
              "      <td>2022-02-01 13:57:05</td>\n",
              "      <td>RNA, RNA localization, human body, cell, trans...</td>\n",
              "    </tr>\n",
              "    <tr>\n",
              "      <th>1</th>\n",
              "      <td>9</td>\n",
              "      <td>Dynamic determinants of co-transcriptional gen...</td>\n",
              "      <td>Ana Fiszbein</td>\n",
              "      <td>Massachusetts Institute of Technology</td>\n",
              "      <td>2020-04-21</td>\n",
              "      <td>11:00:00</td>\n",
              "      <td>EST</td>\n",
              "      <td>webinar</td>\n",
              "      <td>The architecture of mammalian genes enables th...</td>\n",
              "      <td>The architecture of mammalian genes enables th...</td>\n",
              "      <td>iRNA</td>\n",
              "      <td>RNASociety</td>\n",
              "      <td>NaN</td>\n",
              "      <td>https://youtu.be/WXQfIxWx1cQ</td>\n",
              "      <td>NaN</td>\n",
              "      <td>2022-02-01 11:22:14</td>\n",
              "      <td>2022-02-01 13:57:05</td>\n",
              "      <td>greatly expand, coding capacity, genes enables...</td>\n",
              "    </tr>\n",
              "    <tr>\n",
              "      <th>2</th>\n",
              "      <td>10</td>\n",
              "      <td>DNCON2: improved protein contact prediction us...</td>\n",
              "      <td>Jianlin Cheng</td>\n",
              "      <td>University of Missouri</td>\n",
              "      <td>2020-04-22</td>\n",
              "      <td>11:00:00</td>\n",
              "      <td>EST</td>\n",
              "      <td>webinar</td>\n",
              "      <td>Significant improvements in the prediction of ...</td>\n",
              "      <td>Significant improvements in the prediction of ...</td>\n",
              "      <td>MLCSB</td>\n",
              "      <td>NaN</td>\n",
              "      <td>iscbacademy-03-cheng</td>\n",
              "      <td>https://youtu.be/HSXTehKJfXE</td>\n",
              "      <td>NaN</td>\n",
              "      <td>2022-02-01 11:22:14</td>\n",
              "      <td>2022-02-01 13:14:52</td>\n",
              "      <td>Significant improvements, recent years, residu...</td>\n",
              "    </tr>\n",
              "    <tr>\n",
              "      <th>3</th>\n",
              "      <td>11</td>\n",
              "      <td>A SARS-CoV-2 protein interaction map reveals t...</td>\n",
              "      <td>Nevan Krogan</td>\n",
              "      <td>University of California, San Francisco</td>\n",
              "      <td>2020-05-19</td>\n",
              "      <td>11:00:00</td>\n",
              "      <td>EST</td>\n",
              "      <td>covid</td>\n",
              "      <td>Efforts to develop antiviral drugs versus COVI...</td>\n",
              "      <td>Efforts to develop antiviral drugs versus COVI...</td>\n",
              "      <td>ISCB</td>\n",
              "      <td>NaN</td>\n",
              "      <td>covid01</td>\n",
              "      <td>https://youtu.be/EnlPjYMwQDg</td>\n",
              "      <td>NaN</td>\n",
              "      <td>2022-02-01 11:22:14</td>\n",
              "      <td>2022-02-01 13:27:49</td>\n",
              "      <td>limited knowledge, molecular details, drugs ve...</td>\n",
              "    </tr>\n",
              "    <tr>\n",
              "      <th>4</th>\n",
              "      <td>12</td>\n",
              "      <td>Deep Neural Networks for Interpreting RNA-bind...</td>\n",
              "      <td>Mahsa Ghanbari</td>\n",
              "      <td>Max Delbrück Center for Molecular Medicine</td>\n",
              "      <td>2020-05-20</td>\n",
              "      <td>11:00:00</td>\n",
              "      <td>EST</td>\n",
              "      <td>webinar</td>\n",
              "      <td>Deep learning has become a powerful paradigm t...</td>\n",
              "      <td>Deep learning has become a powerful paradigm t...</td>\n",
              "      <td>iRNA</td>\n",
              "      <td>RNASociety</td>\n",
              "      <td>NaN</td>\n",
              "      <td>https://youtu.be/_XwyiZdpY04</td>\n",
              "      <td>NaN</td>\n",
              "      <td>2022-02-01 11:22:14</td>\n",
              "      <td>2022-02-01 13:57:05</td>\n",
              "      <td>RNA-binding proteins, raw data, powerful parad...</td>\n",
              "    </tr>\n",
              "  </tbody>\n",
              "</table>\n",
              "</div>\n",
              "      <button class=\"colab-df-convert\" onclick=\"convertToInteractive('df-2cda9324-83f0-4336-9a78-3369de551494')\"\n",
              "              title=\"Convert this dataframe to an interactive table.\"\n",
              "              style=\"display:none;\">\n",
              "        \n",
              "  <svg xmlns=\"http://www.w3.org/2000/svg\" height=\"24px\"viewBox=\"0 0 24 24\"\n",
              "       width=\"24px\">\n",
              "    <path d=\"M0 0h24v24H0V0z\" fill=\"none\"/>\n",
              "    <path d=\"M18.56 5.44l.94 2.06.94-2.06 2.06-.94-2.06-.94-.94-2.06-.94 2.06-2.06.94zm-11 1L8.5 8.5l.94-2.06 2.06-.94-2.06-.94L8.5 2.5l-.94 2.06-2.06.94zm10 10l.94 2.06.94-2.06 2.06-.94-2.06-.94-.94-2.06-.94 2.06-2.06.94z\"/><path d=\"M17.41 7.96l-1.37-1.37c-.4-.4-.92-.59-1.43-.59-.52 0-1.04.2-1.43.59L10.3 9.45l-7.72 7.72c-.78.78-.78 2.05 0 2.83L4 21.41c.39.39.9.59 1.41.59.51 0 1.02-.2 1.41-.59l7.78-7.78 2.81-2.81c.8-.78.8-2.07 0-2.86zM5.41 20L4 18.59l7.72-7.72 1.47 1.35L5.41 20z\"/>\n",
              "  </svg>\n",
              "      </button>\n",
              "      \n",
              "  <style>\n",
              "    .colab-df-container {\n",
              "      display:flex;\n",
              "      flex-wrap:wrap;\n",
              "      gap: 12px;\n",
              "    }\n",
              "\n",
              "    .colab-df-convert {\n",
              "      background-color: #E8F0FE;\n",
              "      border: none;\n",
              "      border-radius: 50%;\n",
              "      cursor: pointer;\n",
              "      display: none;\n",
              "      fill: #1967D2;\n",
              "      height: 32px;\n",
              "      padding: 0 0 0 0;\n",
              "      width: 32px;\n",
              "    }\n",
              "\n",
              "    .colab-df-convert:hover {\n",
              "      background-color: #E2EBFA;\n",
              "      box-shadow: 0px 1px 2px rgba(60, 64, 67, 0.3), 0px 1px 3px 1px rgba(60, 64, 67, 0.15);\n",
              "      fill: #174EA6;\n",
              "    }\n",
              "\n",
              "    [theme=dark] .colab-df-convert {\n",
              "      background-color: #3B4455;\n",
              "      fill: #D2E3FC;\n",
              "    }\n",
              "\n",
              "    [theme=dark] .colab-df-convert:hover {\n",
              "      background-color: #434B5C;\n",
              "      box-shadow: 0px 1px 3px 1px rgba(0, 0, 0, 0.15);\n",
              "      filter: drop-shadow(0px 1px 2px rgba(0, 0, 0, 0.3));\n",
              "      fill: #FFFFFF;\n",
              "    }\n",
              "  </style>\n",
              "\n",
              "      <script>\n",
              "        const buttonEl =\n",
              "          document.querySelector('#df-2cda9324-83f0-4336-9a78-3369de551494 button.colab-df-convert');\n",
              "        buttonEl.style.display =\n",
              "          google.colab.kernel.accessAllowed ? 'block' : 'none';\n",
              "\n",
              "        async function convertToInteractive(key) {\n",
              "          const element = document.querySelector('#df-2cda9324-83f0-4336-9a78-3369de551494');\n",
              "          const dataTable =\n",
              "            await google.colab.kernel.invokeFunction('convertToInteractive',\n",
              "                                                     [key], {});\n",
              "          if (!dataTable) return;\n",
              "\n",
              "          const docLinkHtml = 'Like what you see? Visit the ' +\n",
              "            '<a target=\"_blank\" href=https://colab.research.google.com/notebooks/data_table.ipynb>data table notebook</a>'\n",
              "            + ' to learn more about interactive tables.';\n",
              "          element.innerHTML = '';\n",
              "          dataTable['output_type'] = 'display_data';\n",
              "          await google.colab.output.renderOutput(dataTable, element);\n",
              "          const docLink = document.createElement('div');\n",
              "          docLink.innerHTML = docLinkHtml;\n",
              "          element.appendChild(docLink);\n",
              "        }\n",
              "      </script>\n",
              "    </div>\n",
              "  </div>\n",
              "  "
            ],
            "text/plain": [
              "   id  ...                                         TopKeyword\n",
              "0   8  ...  RNA, RNA localization, human body, cell, trans...\n",
              "1   9  ...  greatly expand, coding capacity, genes enables...\n",
              "2  10  ...  Significant improvements, recent years, residu...\n",
              "3  11  ...  limited knowledge, molecular details, drugs ve...\n",
              "4  12  ...  RNA-binding proteins, raw data, powerful parad...\n",
              "\n",
              "[5 rows x 18 columns]"
            ]
          },
          "metadata": {},
          "execution_count": 13
        }
      ]
    }
  ]
}